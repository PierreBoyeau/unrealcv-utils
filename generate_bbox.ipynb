{
 "cells": [
  {
   "cell_type": "code",
   "execution_count": 65,
   "metadata": {},
   "outputs": [],
   "source": [
    "from __future__ import division, absolute_import, print_function\n",
    "import os, sys, re\n",
    "import numpy as np\n",
    "from scipy import misc\n",
    "from unrealcv import client\n",
    "from pascal_voc_io import PascalVocWriter\n",
    "import argparse\n",
    "import json\n",
    "\n",
    "\n",
    "DIFFICULT = 0\n",
    "IMGSIZE = (1920, 1080, 3)"
   ]
  },
  {
   "cell_type": "code",
   "execution_count": 66,
   "metadata": {
    "collapsed": true
   },
   "outputs": [],
   "source": [
    "# Only for notebook\n",
    "import matplotlib.pyplot as plt\n",
    "import matplotlib.patches as patches"
   ]
  },
  {
   "cell_type": "code",
   "execution_count": 69,
   "metadata": {
    "collapsed": true
   },
   "outputs": [],
   "source": [
    "# Fonction à revoir car non fonctionnelle.\n",
    "def read_png(res):\n",
    "    img = misc.imread(res)\n",
    "    return np.asarray(img)"
   ]
  },
  {
   "cell_type": "code",
   "execution_count": 61,
   "metadata": {},
   "outputs": [
    {
     "data": {
      "text/plain": [
       "'D:/Programmes/Epic Games/UE_4.13/Engine/Binaries/Win64/0.png'"
      ]
     },
     "execution_count": 61,
     "metadata": {},
     "output_type": "execute_result"
    }
   ],
   "source": [
    "# Find solution to properly read png\n",
    "res"
   ]
  },
  {
   "cell_type": "code",
   "execution_count": 56,
   "metadata": {
    "collapsed": true
   },
   "outputs": [],
   "source": [
    "class Color(object):\n",
    "    ''' A utility class to parse color value '''\n",
    "    regexp = re.compile('\\(R=(.*),G=(.*),B=(.*),A=(.*)\\)')\n",
    "\n",
    "    def __init__(self, color_str):\n",
    "        self.color_str = color_str\n",
    "        match = self.regexp.match(color_str)\n",
    "        (self.R, self.G, self.B, self.A) = [int(match.group(i)) for i in range(1, 5)]\n",
    "\n",
    "    def __repr__(self):\n",
    "        return self.color_str\n",
    "\n",
    "\n",
    "def match_color(object_mask, target_color, tolerance=3):\n",
    "    \"\"\"Function that returns the coordinates of bbox associated with target_color mask\n",
    "    The coordinates returned are (xmin, xmax, ymin, ymax)\"\"\"\n",
    "\n",
    "    match_region = np.ones(object_mask.shape[0:2], dtype=bool)\n",
    "    for c in range(3): # r,g,b\n",
    "        min_val = target_color[c] - tolerance\n",
    "        max_val = target_color[c] + tolerance\n",
    "        channel_region = (object_mask[:,:,c] >= min_val) & (object_mask[:,:,c] <= max_val)\n",
    "        match_region &= channel_region\n",
    "\n",
    "    if match_region.sum() != 0:\n",
    "        xbox, ybox = np.where(match_region)\n",
    "        xmin, xmax = np.min(xbox), np.max(xbox)\n",
    "        ymin, ymax = np.min(ybox), np.max(ybox)\n",
    "        return xmin, xmax, ymin, ymax\n",
    "    else:\n",
    "        return None\n",
    "    \n",
    "    \n",
    "def match_color_mask(object_mask, target_color, tolerance=3):\n",
    "    match_region = np.ones(object_mask.shape[0:2], dtype=bool)\n",
    "    for c in range(3): # r,g,b\n",
    "        min_val = target_color[c] - tolerance\n",
    "        max_val = target_color[c] + tolerance\n",
    "        channel_region = (object_mask[:,:,c] >= min_val) & (object_mask[:,:,c] <= max_val)\n",
    "        match_region &= channel_region\n",
    "\n",
    "    if match_region.sum() != 0:\n",
    "        return match_region\n",
    "    else:\n",
    "        return None\n",
    "\n",
    "\n",
    "def get_id2color(scene_objects):\n",
    "    id2color = {}  # Map from object id to the labeling color\n",
    "    for obj_id in scene_objects:\n",
    "        color = Color(client.request('vget /object/%s/color' % obj_id))\n",
    "        id2color[obj_id] = color\n",
    "    return id2color\n",
    "\n",
    "\n",
    "def write_VOC(id2bbox, id2category, filename, foldername='database', imgSize=IMGSIZE):\n",
    "    writer = PascalVocWriter(filename, foldername, imgSize)\n",
    "    ids = id2bbox.values()\n",
    "    for id in ids:\n",
    "        xmin, xmax, ymin, ymax = id2bbox[id]\n",
    "        name = id2category[id]\n",
    "        writer.addBndBox(xmin, ymin, xmax, ymax, name, DIFFICULT)\n",
    "    writer.save(foldername+'{}.xml'.format(filename))"
   ]
  },
  {
   "cell_type": "code",
   "execution_count": 57,
   "metadata": {},
   "outputs": [
    {
     "name": "stdout",
     "output_type": "stream",
     "text": [
      "Is Listening\n",
      "Client Connected\n",
      "9000\n",
      "Configuration\n",
      "Config file: D:/Programmes/Epic Games/UE_4.13/Engine/Binaries/Win64/unrealcv.ini\n",
      "Port: 9000\n",
      "Width: 1920\n",
      "Height: 1080\n",
      "\n",
      "done\n"
     ]
    }
   ],
   "source": [
    "client.connect()\n",
    "if not client.isconnected():\n",
    "    print('UnrealCV server is not running. Run the game downloaded from http://unrealcv.github.io first.')\n",
    "    sys.exit(-1)\n",
    "res = client.request('vget /unrealcv/status')\n",
    "# The image resolution and port is configured in the config file.\n",
    "print(res)\n",
    "\n",
    "camera_trajectory = json.load(open('camera_traj.json'))\n",
    "with open('object_category.json') as f:\n",
    "    id2category = json.load(f)\n",
    "print('done')"
   ]
  },
  {
   "cell_type": "code",
   "execution_count": 70,
   "metadata": {},
   "outputs": [
    {
     "name": "stdout",
     "output_type": "stream",
     "text": [
      "The image is saved to D:/Programmes/Epic Games/UE_4.13/Engine/Binaries/Win64/0.png\n",
      "image dimension :  (1080L, 1920L, 4L)\n",
      "mask dimension :  (442L, 611L, 4L)\n",
      "Number of objects in this scene: 93\n",
      "rhinadvil11 None\n",
      "rhinadvil10 None\n",
      "rhinadvil13 (56, 89, 215, 289)\n",
      "rhinadvil12 (60, 92, 68, 140)\n",
      "rhinadvil3_191 None\n",
      "rhinadvil14 (90, 123, 217, 290)\n",
      "rhinadvil17 (277, 305, 442, 517)\n",
      "drill-bleu3_208 None\n",
      "rhinadvil19 (277, 427, 359, 507)\n",
      "rhinadvil18 (252, 281, 444, 521)\n",
      "dafalgan_133 None\n",
      "novanuit2_167 None\n",
      "drill-bleu_204 None\n",
      "dafalgan2_135 None\n",
      "nuronfen_408 (97, 132, 460, 537)\n",
      "dafalgan4_139 (134, 236, 58, 77)\n",
      "drill-bleu2_206 None\n",
      "dafalgan14 (284, 318, 261, 293)\n",
      "novanuit11 (352, 410, 394, 438)\n",
      "dafalgan20 (99, 419, 71, 254)\n",
      "dafalgan21 (285, 319, 297, 329)\n",
      "rhinadvil2_189 None\n",
      "novanuit3_169 (77, 289, 0, 134)\n",
      "doliprane_otx_gelule_158 (331, 440, 62, 548)\n",
      "dafalgan12 (379, 413, 221, 255)\n",
      "novanuit_165 (329, 433, 0, 53)\n",
      "dafalgan15 (343, 377, 220, 254)\n",
      "rhinadvil16_263 (303, 333, 440, 515)\n",
      "nuronfen_184 (104, 318, 55, 208)\n",
      "doliprane_otx_gelule_154 None\n",
      "nuronfen_182 None\n",
      "doliprane_otx_gelule_156 None\n",
      "nuronfen_180 None\n",
      "doliprane_otx_gelule_222 (312, 338, 600, 604)\n",
      "rhinadvil7 (353, 360, 404, 437)\n",
      "dafalgan7_145 None\n",
      "doliprane_otx_gelule_226 None\n",
      "dafalgan17 (352, 385, 321, 355)\n",
      "doliprane_otx_gelule_224 None\n",
      "dafalgan5_141 None\n",
      "dafalgan16 (337, 424, 20, 143)\n",
      "rhinadvil9 None\n",
      "rhinadvil8 None\n",
      "drill-bleu4_210 None\n",
      "nuronfen_176 (7, 334, 15, 595)\n",
      "rhinadvil6 (94, 124, 72, 142)\n",
      "nuronfen_174 None\n",
      "rhinadvil_187 None\n",
      "drill-bleu5_212 None\n",
      "dafalgan10_151 None\n",
      "nuronfen_178 None\n",
      "doliprane_otx_gelule_1013 (276, 300, 90, 147)\n",
      "doliprane_otx_gelule_1012 (300, 323, 93, 148)\n",
      "dafalgan8_147 None\n",
      "novanuit8 (174, 232, 345, 391)\n",
      "doliprane_otx_gelule_216 None\n",
      "dafalgan11 (375, 408, 107, 142)\n",
      "dafalgan13 (386, 420, 321, 354)\n",
      "doliprane_otx_gelule_220 None\n",
      "nuronfen_406 (101, 135, 296, 361)\n",
      "dafalgan9_149 None\n",
      "nuronfen_407 (100, 134, 374, 443)\n",
      "doliprane_otx_gelule_245 (227, 404, 74, 204)\n",
      "doliprane_otx_gelule_160 (314, 314, 604, 604)\n",
      "novanuit9 (174, 232, 406, 459)\n",
      "doliprane_otx_gelule_162 None\n",
      "dafalgan3_137 (110, 129, 374, 442)\n",
      "rhinadvil4_193 None\n",
      "rhinadvil5_195 None\n",
      "dafalgan18 (379, 423, 283, 312)\n",
      "nuronfen_409 (289, 320, 370, 430)\n",
      "novanuit7 (174, 230, 293, 337)\n",
      "novanuit6 (174, 231, 238, 282)\n",
      "novanuit5 (174, 229, 179, 227)\n",
      "novanuit4 (174, 230, 134, 167)\n",
      "dafalgan22 (286, 319, 335, 368)\n",
      "novanuit10 (174, 233, 467, 513)\n",
      "rhinadvil15_251 (294, 317, 0, 3)\n",
      "doliprane_otx_gelule_218 (341, 434, 50, 526)\n",
      "drill-bleu6_214 None\n",
      "novanuit12 (355, 411, 447, 486)\n",
      "dafalgan19 (342, 389, 285, 600)\n",
      "dafalgan6_143 None\n",
      "nuronfen_410 (283, 317, 166, 220)\n"
     ]
    }
   ],
   "source": [
    "num_cameras = len(camera_trajectory)\n",
    "# for idx in range(num_cameras):\n",
    "idx = 0\n",
    "loc, rot = camera_trajectory[idx]\n",
    "client.request('vset /camera/{id}/location {x} {y} {z}'.format(id=idx, **loc))\n",
    "client.request('vset /camera/{id}/rotation {pitch} {yaw} {roll}'.format(id=idx, **rot))\n",
    "# Get image\n",
    "res = client.request('vget /camera/{id}/lit {id}.png'.format(id=idx))\n",
    "print('The image is saved to %s' % res)\n",
    "\n",
    "custom_img = read_png(res)\n",
    "print('image dimension : ', np.shape(custom_img))\n",
    "\n",
    "# Generate image mask\n",
    "res = client.request('vget /camera/{id}/object_mask mask_{id}.png'.format(id=idx))\n",
    "object_mask = read_png(res)\n",
    "print('mask dimension : ', np.shape(object_mask))\n",
    "\n",
    "# Associate images to all objects ids\n",
    "scene_objects = client.request('vget /objects').split(' ')\n",
    "print('Number of objects in this scene:', len(scene_objects))\n",
    "\n",
    "id2color = get_id2color(scene_objects)\n",
    "id2bbox = {}\n",
    "for obj_id in id2category:\n",
    "    color = id2color[obj_id]\n",
    "    bbox = match_color(object_mask, [color.R, color.G, color.B], tolerance=5)\n",
    "    print(obj_id, bbox)\n",
    "    if bbox is not None:\n",
    "        id2bbox[obj_id] = bbox"
   ]
  },
  {
   "cell_type": "code",
   "execution_count": 46,
   "metadata": {},
   "outputs": [
    {
     "name": "stdout",
     "output_type": "stream",
     "text": [
      "(array([], dtype=int64),)\n",
      "(array([], dtype=int64),)\n",
      "(array([], dtype=int64),)\n"
     ]
    }
   ],
   "source": [
    "obj_id = 'drill-bleu5_212'\n",
    "tolerance = 3\n",
    "color = id2color[obj_id]\n",
    "target_color = (color.R, color.G, color.B)\n",
    "match_region = np.ones(object_mask.shape[0:2], dtype=bool)\n",
    "for c in range(3): # r,g,b\n",
    "    min_val = target_color[c] - tolerance\n",
    "    max_val = target_color[c] + tolerance\n",
    "    channel_region = (object_mask[:,:,c] >= min_val) & (object_mask[:,:,c] <= max_val)\n",
    "    print(np.where(True in channel_region))\n",
    "    match_region &= channel_region"
   ]
  },
  {
   "cell_type": "code",
   "execution_count": 52,
   "metadata": {},
   "outputs": [
    {
     "data": {
      "text/plain": [
       "(442L, 611L, 4L)"
      ]
     },
     "execution_count": 52,
     "metadata": {},
     "output_type": "execute_result"
    }
   ],
   "source": [
    "object_mask.shape"
   ]
  },
  {
   "cell_type": "code",
   "execution_count": 32,
   "metadata": {},
   "outputs": [
    {
     "data": {
      "image/png": "[encoded data removed]",
      "text/plain": [
       "<matplotlib.figure.Figure at 0x7c30b00>"
      ]
     },
     "metadata": {},
     "output_type": "display_data"
    }
   ],
   "source": [
    "res = client.request('vget /camera/{id}/object_mask'.format(id=idx))\n",
    "object_mask = read_png(res)\n",
    "plt.imshow(object_mask)\n",
    "plt.show()"
   ]
  },
  {
   "cell_type": "markdown",
   "metadata": {},
   "source": [
    "Convention (xmin, xmax, ymin, ymax)"
   ]
  },
  {
   "cell_type": "code",
   "execution_count": 13,
   "metadata": {},
   "outputs": [
    {
     "ename": "KeyError",
     "evalue": "'novanuit11'",
     "output_type": "error",
     "traceback": [
      "\u001b[1;31m---------------------------------------------------------------------------\u001b[0m",
      "\u001b[1;31mKeyError\u001b[0m                                  Traceback (most recent call last)",
      "\u001b[1;32m<ipython-input-13-1c179ed5c0f0>\u001b[0m in \u001b[0;36m<module>\u001b[1;34m()\u001b[0m\n\u001b[0;32m      4\u001b[0m \u001b[1;31m# Display the image\u001b[0m\u001b[1;33m\u001b[0m\u001b[1;33m\u001b[0m\u001b[0m\n\u001b[0;32m      5\u001b[0m \u001b[0max\u001b[0m\u001b[1;33m.\u001b[0m\u001b[0mimshow\u001b[0m\u001b[1;33m(\u001b[0m\u001b[0mcustom_img\u001b[0m\u001b[1;33m)\u001b[0m\u001b[1;33m\u001b[0m\u001b[0m\n\u001b[1;32m----> 6\u001b[1;33m \u001b[0mxmin\u001b[0m\u001b[1;33m,\u001b[0m \u001b[0mxmax\u001b[0m\u001b[1;33m,\u001b[0m \u001b[0mymin\u001b[0m\u001b[1;33m,\u001b[0m \u001b[0mymax\u001b[0m \u001b[1;33m=\u001b[0m \u001b[0mid2bbox\u001b[0m\u001b[1;33m[\u001b[0m\u001b[1;34m'novanuit11'\u001b[0m\u001b[1;33m]\u001b[0m\u001b[1;33m\u001b[0m\u001b[0m\n\u001b[0m\u001b[0;32m      7\u001b[0m \u001b[1;32mprint\u001b[0m\u001b[1;33m(\u001b[0m\u001b[0mxmin\u001b[0m\u001b[1;33m,\u001b[0m \u001b[0mxmax\u001b[0m\u001b[1;33m,\u001b[0m \u001b[0mymin\u001b[0m\u001b[1;33m,\u001b[0m \u001b[0mymax\u001b[0m\u001b[1;33m)\u001b[0m\u001b[1;33m\u001b[0m\u001b[0m\n\u001b[0;32m      8\u001b[0m \u001b[1;31m#rect = patches.Rectangle((xmin,ymin),xmax-xmin,ymax-ymin, linewidth=1, edgecolor='r', facecolor='none')\u001b[0m\u001b[1;33m\u001b[0m\u001b[1;33m\u001b[0m\u001b[0m\n",
      "\u001b[1;31mKeyError\u001b[0m: 'novanuit11'"
     ]
    }
   ],
   "source": [
    "# Create figure and axes\n",
    "fig,ax = plt.subplots(1)\n",
    "\n",
    "# Display the image\n",
    "ax.imshow(custom_img)\n",
    "xmin, xmax, ymin, ymax = id2bbox['novanuit11']\n",
    "print(xmin, xmax, ymin, ymax)\n",
    "#rect = patches.Rectangle((xmin,ymin),xmax-xmin,ymax-ymin, linewidth=1, edgecolor='r', facecolor='none')\n",
    "rect = patches.Rectangle((ymin,xmin),ymax-ymin,xmax-xmin, linewidth=1, edgecolor='r', facecolor='none')\n",
    "ax.add_patch(rect)\n",
    "\n",
    "plt.show()"
   ]
  },
  {
   "cell_type": "code",
   "execution_count": 1,
   "metadata": {},
   "outputs": [
    {
     "ename": "NameError",
     "evalue": "name 'plt' is not defined",
     "output_type": "error",
     "traceback": [
      "\u001b[1;31m---------------------------------------------------------------------------\u001b[0m",
      "\u001b[1;31mNameError\u001b[0m                                 Traceback (most recent call last)",
      "\u001b[1;32m<ipython-input-1-dab2fcc9331e>\u001b[0m in \u001b[0;36m<module>\u001b[1;34m()\u001b[0m\n\u001b[0;32m      1\u001b[0m \u001b[1;31m# Create figure and axes\u001b[0m\u001b[1;33m\u001b[0m\u001b[1;33m\u001b[0m\u001b[0m\n\u001b[1;32m----> 2\u001b[1;33m \u001b[0mfig\u001b[0m\u001b[1;33m,\u001b[0m\u001b[0max\u001b[0m \u001b[1;33m=\u001b[0m \u001b[0mplt\u001b[0m\u001b[1;33m.\u001b[0m\u001b[0msubplots\u001b[0m\u001b[1;33m(\u001b[0m\u001b[1;36m1\u001b[0m\u001b[1;33m)\u001b[0m\u001b[1;33m\u001b[0m\u001b[0m\n\u001b[0m\u001b[0;32m      3\u001b[0m \u001b[1;33m\u001b[0m\u001b[0m\n\u001b[0;32m      4\u001b[0m \u001b[1;31m# Display the image\u001b[0m\u001b[1;33m\u001b[0m\u001b[1;33m\u001b[0m\u001b[0m\n\u001b[0;32m      5\u001b[0m \u001b[0max\u001b[0m\u001b[1;33m.\u001b[0m\u001b[0mimshow\u001b[0m\u001b[1;33m(\u001b[0m\u001b[0mcustom_img\u001b[0m\u001b[1;33m)\u001b[0m\u001b[1;33m\u001b[0m\u001b[0m\n",
      "\u001b[1;31mNameError\u001b[0m: name 'plt' is not defined"
     ]
    }
   ],
   "source": [
    "# Create figure and axes\n",
    "fig,ax = plt.subplots(1)\n",
    "\n",
    "# Display the image\n",
    "ax.imshow(custom_img)\n",
    "for (xmin, xmax, ymin, ymax) in id2bbox.values():\n",
    "    \n",
    "    #rect = patches.Rectangle((xmin,ymin),xmax-xmin,ymax-ymin, linewidth=1, edgecolor='r', facecolor='none')\n",
    "    rect = patches.Rectangle((ymin,xmin),ymax-ymin,xmax-xmin, linewidth=1, edgecolor='r', facecolor='none')\n",
    "    ax.add_patch(rect)\n",
    "\n",
    "plt.show()"
   ]
  },
  {
   "cell_type": "markdown",
   "metadata": {},
   "source": [
    "Constat : fonction semble fonctioner"
   ]
  },
  {
   "cell_type": "code",
   "execution_count": null,
   "metadata": {
    "collapsed": true
   },
   "outputs": [],
   "source": [
    "client.disconnect()"
   ]
  }
 ],
 "metadata": {
  "kernelspec": {
   "display_name": "Python 2",
   "language": "python",
   "name": "python2"
  },
  "language_info": {
   "codemirror_mode": {
    "name": "ipython",
    "version": 2
   },
   "file_extension": ".py",
   "mimetype": "text/x-python",
   "name": "python",
   "nbconvert_exporter": "python",
   "pygments_lexer": "ipython2",
   "version": "2.7.12"
  }
 },
 "nbformat": 4,
 "nbformat_minor": 2
}
