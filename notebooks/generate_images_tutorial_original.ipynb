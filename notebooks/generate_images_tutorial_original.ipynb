{
 "cells": [
  {
   "cell_type": "code",
   "execution_count": null,
   "metadata": {
    "collapsed": true
   },
   "outputs": [],
   "source": [
    "%matplotlib inline"
   ]
  },
  {
   "cell_type": "markdown",
   "metadata": {},
   "source": [
    "\n",
    "# Generate Images\n",
    "\n",
    "\n",
    "This ipython notebook demonstrates how to generate an image dataset with rich\n",
    "ground truth from a virtual environment.\n",
    "\n"
   ]
  },
  {
   "cell_type": "code",
   "execution_count": null,
   "metadata": {
    "collapsed": true
   },
   "outputs": [],
   "source": [
    "import time; print(time.strftime(\"The last update of this file: %Y-%m-%d %H:%M:%S\", time.gmtime()))"
   ]
  },
  {
   "cell_type": "markdown",
   "metadata": {},
   "source": [
    "Load some python libraries\n",
    "The dependencies for this tutorials are\n",
    "PIL, Numpy, Matplotlib\n",
    "\n"
   ]
  },
  {
   "cell_type": "code",
   "execution_count": null,
   "metadata": {
    "collapsed": true
   },
   "outputs": [],
   "source": [
    "from __future__ import division, absolute_import, print_function\n",
    "import os, sys, time, re, json\n",
    "import numpy as np\n",
    "import matplotlib.pyplot as plt\n",
    "\n",
    "imread = plt.imread\n",
    "def imread8(im_file):\n",
    "    ''' Read image as a 8-bit numpy array '''\n",
    "    im = np.asarray(Image.open(im_file))\n",
    "    return im\n",
    "\n",
    "def read_png(res):\n",
    "    import StringIO, PIL.Image\n",
    "    img = PIL.Image.open(StringIO.StringIO(res))\n",
    "    return np.asarray(img)\n",
    "\n",
    "def read_npy(res):\n",
    "    import StringIO\n",
    "    return np.load(StringIO.StringIO(res))"
   ]
  },
  {
   "cell_type": "markdown",
   "metadata": {},
   "source": [
    "Connect to the game\n",
    "===================\n",
    "Load unrealcv python client, do :code:`pip install unrealcv` first.\n",
    "\n"
   ]
  },
  {
   "cell_type": "code",
   "execution_count": null,
   "metadata": {
    "collapsed": true
   },
   "outputs": [],
   "source": [
    "from unrealcv import client\n",
    "client.connect()\n",
    "if not client.isconnected():\n",
    "    print('UnrealCV server is not running. Run the game downloaded from http://unrealcv.github.io first.')\n",
    "    sys.exit(-1)"
   ]
  },
  {
   "cell_type": "markdown",
   "metadata": {},
   "source": [
    "Make sure the connection works well\n",
    "\n"
   ]
  },
  {
   "cell_type": "code",
   "execution_count": null,
   "metadata": {
    "collapsed": true
   },
   "outputs": [],
   "source": [
    "res = client.request('vget /unrealcv/status')\n",
    "# The image resolution and port is configured in the config file.\n",
    "print(res)"
   ]
  },
  {
   "cell_type": "markdown",
   "metadata": {},
   "source": [
    "Load a camera trajectory\n",
    "========================\n",
    "\n"
   ]
  },
  {
   "cell_type": "code",
   "execution_count": null,
   "metadata": {
    "collapsed": true
   },
   "outputs": [],
   "source": [
    "traj_file = './camera_traj.json' # Relative to this python script\n",
    "import json; camera_trajectory = json.load(open(traj_file))\n",
    "# We will show how to record a camera trajectory in another tutorial"
   ]
  },
  {
   "cell_type": "markdown",
   "metadata": {},
   "source": [
    "Render an image\n",
    "===============\n",
    "\n"
   ]
  },
  {
   "cell_type": "code",
   "execution_count": null,
   "metadata": {
    "collapsed": true
   },
   "outputs": [],
   "source": [
    "idx = 1\n",
    "loc, rot = camera_trajectory[idx]\n",
    "# Set position of the first camera\n",
    "client.request('vset /camera/0/location {x} {y} {z}'.format(**loc))\n",
    "client.request('vset /camera/0/rotation {pitch} {yaw} {roll}'.format(**rot))\n",
    "\n",
    "# Get image\n",
    "res = client.request('vget /camera/0/lit lit.png')\n",
    "print('The image is saved to %s' % res)\n",
    "\n",
    "# It is also possible to get the png directly without saving to a file\n",
    "res = client.request('vget /camera/0/lit png')\n",
    "im = read_png(res)\n",
    "print(im.shape)\n",
    "\n",
    "# Visualize the image we just captured\n",
    "plt.imshow(im)"
   ]
  },
  {
   "cell_type": "markdown",
   "metadata": {},
   "source": [
    "Ground truth generation\n",
    "=======================\n",
    "Generate ground truth from this virtual scene\n",
    "\n"
   ]
  },
  {
   "cell_type": "code",
   "execution_count": null,
   "metadata": {
    "collapsed": true
   },
   "outputs": [],
   "source": [
    "res = client.request('vget /camera/0/object_mask png')\n",
    "object_mask = read_png(res)\n",
    "res = client.request('vget /camera/0/normal png')\n",
    "normal = read_png(res)\n",
    "\n",
    "# Visualize the captured ground truth\n",
    "plt.imshow(object_mask)\n",
    "plt.figure()\n",
    "plt.imshow(normal)"
   ]
  },
  {
   "cell_type": "markdown",
   "metadata": {},
   "source": [
    "Depth is retrieved as a numpy array\n",
    "For UnrealCV < v0.3.8, the depth is saved as an exr file, but this has two issues. 1. Exr is not well supported in Linux 2. It depends on OpenCV to read exr file, which is hard to install\n",
    "\n"
   ]
  },
  {
   "cell_type": "code",
   "execution_count": null,
   "metadata": {
    "collapsed": true
   },
   "outputs": [],
   "source": [
    "res = client.request('vget /camera/0/depth npy')\n",
    "depth = read_npy(res)\n",
    "plt.imshow(depth)"
   ]
  },
  {
   "cell_type": "markdown",
   "metadata": {},
   "source": [
    "Get object information\n",
    "======================\n",
    "List all the objects of this virtual scene\n",
    "\n"
   ]
  },
  {
   "cell_type": "code",
   "execution_count": null,
   "metadata": {
    "collapsed": true
   },
   "outputs": [],
   "source": [
    "scene_objects = client.request('vget /objects').split(' ')\n",
    "print('Number of objects in this scene:', len(scene_objects))\n",
    "\n",
    "# TODO: replace this with a better implementation\n",
    "class Color(object):\n",
    "    ''' A utility class to parse color value '''\n",
    "    regexp = re.compile('\\(R=(.*),G=(.*),B=(.*),A=(.*)\\)')\n",
    "    def __init__(self, color_str):\n",
    "        self.color_str = color_str\n",
    "        match = self.regexp.match(color_str)\n",
    "        (self.R, self.G, self.B, self.A) = [int(match.group(i)) for i in range(1,5)]\n",
    "\n",
    "    def __repr__(self):\n",
    "        return self.color_str\n",
    "\n",
    "id2color = {} # Map from object id to the labeling color\n",
    "for obj_id in scene_objects:\n",
    "    color = Color(client.request('vget /object/%s/color' % obj_id))\n",
    "    id2color[obj_id] = color\n",
    "    # print('%s : %s' % (obj_id, str(color)))"
   ]
  },
  {
   "cell_type": "markdown",
   "metadata": {},
   "source": [
    "Parse the segmentation mask\n",
    "\n"
   ]
  },
  {
   "cell_type": "code",
   "execution_count": null,
   "metadata": {
    "collapsed": true
   },
   "outputs": [],
   "source": [
    "def match_color(object_mask, target_color, tolerance=3):\n",
    "    match_region = np.ones(object_mask.shape[0:2], dtype=bool)\n",
    "    for c in range(3): # r,g,b\n",
    "        min_val = target_color[c] - tolerance\n",
    "        max_val = target_color[c] + tolerance\n",
    "        channel_region = (object_mask[:,:,c] >= min_val) & (object_mask[:,:,c] <= max_val)\n",
    "        match_region &= channel_region\n",
    "\n",
    "    if match_region.sum() != 0:\n",
    "        return match_region\n",
    "    else:\n",
    "        return None\n",
    "\n",
    "id2mask = {}\n",
    "for obj_id in scene_objects:\n",
    "    color = id2color[obj_id]\n",
    "    mask = match_color(object_mask, [color.R, color.G, color.B], tolerance = 3)\n",
    "    if mask is not None:\n",
    "        id2mask[obj_id] = mask\n",
    "# This may take a while\n",
    "# TODO: Need to find a faster implementation for this"
   ]
  },
  {
   "cell_type": "markdown",
   "metadata": {},
   "source": [
    "Print statistics of this virtual scene and this image\n",
    "=====================================================\n",
    "Load information of this scene\n",
    "\n"
   ]
  },
  {
   "cell_type": "code",
   "execution_count": null,
   "metadata": {
    "collapsed": true
   },
   "outputs": [],
   "source": [
    "with open('object_category.json') as f:\n",
    "    id2category = json.load(f)\n",
    "categories = set(id2category.values())\n",
    "# Show statistics of this frame\n",
    "image_objects = id2mask.keys()\n",
    "print('Number of objects in this image:', len(image_objects))\n",
    "print('%20s : %s' % ('Category name', 'Object name'))\n",
    "for category in categories:\n",
    "    objects = [v for v in image_objects if id2category.get(v) == category]\n",
    "    if len(objects) > 6: # Trim the list if too long\n",
    "        objects[6:] = ['...']\n",
    "    if len(objects) != 0:\n",
    "        print('%20s : %s' % (category, objects))"
   ]
  },
  {
   "cell_type": "markdown",
   "metadata": {},
   "source": [
    "Show the annotation color of some objects\n",
    "\n"
   ]
  },
  {
   "cell_type": "code",
   "execution_count": null,
   "metadata": {
    "collapsed": true
   },
   "outputs": [],
   "source": [
    "ids = ['SM_Couch_1seat_5', 'SM_Vase_17', 'SM_Shelving_6', 'SM_Plant_8']\n",
    "# for obj_id in ids:\n",
    "obj_id = ids[0]\n",
    "color = id2color[obj_id]\n",
    "print('%s : %s' % (obj_id, str(color)))\n",
    "# color_block = np.zeros((100,100, 3)) + np.array([color.R, color.G, color.B]) / 255.0\n",
    "# plt.figure(); plt.imshow(color_block); plt.title(obj_id)"
   ]
  },
  {
   "cell_type": "markdown",
   "metadata": {},
   "source": [
    "Plot only one object\n",
    "\n"
   ]
  },
  {
   "cell_type": "code",
   "execution_count": null,
   "metadata": {
    "collapsed": true
   },
   "outputs": [],
   "source": [
    "mask = id2mask['SM_Plant_8']\n",
    "plt.figure(); plt.imshow(mask)"
   ]
  },
  {
   "cell_type": "markdown",
   "metadata": {},
   "source": [
    "Show all sofas in this image\n",
    "\n"
   ]
  },
  {
   "cell_type": "code",
   "execution_count": null,
   "metadata": {
    "collapsed": true
   },
   "outputs": [],
   "source": [
    "couch_instance = [v for v in image_objects if id2category.get(v) == 'Couch']\n",
    "mask = sum(id2mask[v] for v in couch_instance)\n",
    "plt.figure(); plt.imshow(mask)"
   ]
  },
  {
   "cell_type": "markdown",
   "metadata": {},
   "source": [
    "Change the annotation color, fixed in v0.3.9\n",
    "You can use this to make objects you don't care the same color\n",
    "\n"
   ]
  },
  {
   "cell_type": "code",
   "execution_count": null,
   "metadata": {
    "collapsed": true
   },
   "outputs": [],
   "source": [
    "client.request('vset /object/SM_Couch_1seat_5/color 255 0 0') # Change to pure red\n",
    "client.request('vget /object/SM_Couch_1seat_5/color')\n",
    "res = client.request('vget /camera/0/object_mask png')\n",
    "object_mask = read_png(res)\n",
    "plt.imshow(object_mask)"
   ]
  },
  {
   "cell_type": "markdown",
   "metadata": {},
   "source": [
    "Clean up resources\n",
    "==================\n",
    "\n"
   ]
  },
  {
   "cell_type": "code",
   "execution_count": null,
   "metadata": {
    "collapsed": true
   },
   "outputs": [],
   "source": [
    "client.disconnect()"
   ]
  }
 ],
 "metadata": {
  "kernelspec": {
   "display_name": "Python 2",
   "language": "python",
   "name": "python2"
  },
  "language_info": {
   "codemirror_mode": {
    "name": "ipython",
    "version": 2
   },
   "file_extension": ".py",
   "mimetype": "text/x-python",
   "name": "python",
   "nbconvert_exporter": "python",
   "pygments_lexer": "ipython2",
   "version": "2.7.12"
  }
 },
 "nbformat": 4,
 "nbformat_minor": 1
}
